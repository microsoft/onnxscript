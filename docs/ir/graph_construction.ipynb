{
 "cells": [
  {
   "cell_type": "markdown",
   "id": "e6c5d49d",
   "metadata": {},
   "source": [
    "# Building an ONNX Graph with ONNX IR\n",
    "\n",
    "This tutorial will guide you through the process of creating an ONNX graph using the `onnxscript.ir` module. We will explore two methods: using `ir.node` constructor and using the `ir.tape.Tape` methods. You will learn how to create a complete ONNX model with initializers, nodes, and subgraphs in this tutorial."
   ]
  },
  {
   "cell_type": "markdown",
   "id": "cbe1ef61",
   "metadata": {},
   "source": [
    "## What is in an ONNX IR `Model`"
   ]
  }
 ],
 "metadata": {
  "language_info": {
   "name": "python"
  }
 },
 "nbformat": 4,
 "nbformat_minor": 5
}
